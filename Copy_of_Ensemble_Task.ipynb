{
  "cells": [
    {
      "cell_type": "markdown",
      "metadata": {
        "id": "view-in-github",
        "colab_type": "text"
      },
      "source": [
        "<a href=\"https://colab.research.google.com/github/Eng-Manal10/2end-upload/blob/main/Copy_of_Ensemble_Task.ipynb\" target=\"_parent\"><img src=\"https://colab.research.google.com/assets/colab-badge.svg\" alt=\"Open In Colab\"/></a>"
      ]
    },
    {
      "cell_type": "markdown",
      "id": "9ae4cc02",
      "metadata": {
        "id": "9ae4cc02"
      },
      "source": [
        "# Ensemble Methods Notebook\n",
        "Welcome to the weekly project on Ensemble Methods. You will be working with a dataset of traffic jams.\n",
        "\n",
        "## Dataset\n",
        "The dataset that will be used in this task is `Traffic_Jam.csv`\n",
        "\n",
        "## Instructions\n",
        "- Follow the steps outlined below.\n",
        "- Write your code in the empty code cells.\n",
        "- Comment on your code to explain your reasoning.\n",
        "\n",
        "## Dataset Overview\n",
        "This dataset contains traffic data including various counts of vehicle types across different times and days. Below are samples of these columns:\n",
        "\n",
        "* `Time`: The timestamp of the traffic count (in intervals).\n",
        "* `Date`: The day of the month the data was recorded.\n",
        "* `Day of the Week`: The day of the week for the recorded data.\n",
        "* `CarCount`: The number of cars counted during the time interval.\n",
        "* `BikeCount`: The number of bikes counted during the time interval.\n",
        "* `BusCount`: The number of buses counted during the time interval.\n",
        "* `TruckCount`: The number of trucks counted during the time interval.\n",
        "* `Total`: Total vehicles counted during the time interval.\n",
        "* `Traffic Situation`: Qualitative assessment of the traffic (e.g., normal, congested).\n",
        "\n",
        "## Goal\n",
        "The primary goal of this exam is to develop a predictive model capable of determining the `Traffic Situation` based on your choice of features provided in the dataset. Students are expected to apply ensemble methods to build and evaluate their models."
      ]
    },
    {
      "cell_type": "markdown",
      "id": "0243f5f9",
      "metadata": {
        "id": "0243f5f9"
      },
      "source": [
        "# Import Libraries"
      ]
    },
    {
      "cell_type": "code",
      "source": [
        "import pandas as pd\n",
        "from sklearn.model_selection import train_test_split\n",
        "from sklearn.preprocessing import LabelEncoder\n",
        "from sklearn.ensemble import RandomForestClassifier\n",
        "from sklearn.metrics import accuracy_score, classification_report\n",
        "import numpy as np\n",
        "import matplotlib.pyplot as plt\n",
        "import seaborn as sns\n",
        "import warnings as wr\n",
        "wr.filterwarnings('ignore')\n"
      ],
      "metadata": {
        "id": "sQ5qcUt77R1z"
      },
      "id": "sQ5qcUt77R1z",
      "execution_count": 3,
      "outputs": []
    },
    {
      "cell_type": "markdown",
      "id": "3bc0f20e",
      "metadata": {
        "id": "3bc0f20e"
      },
      "source": [
        "# Load the dataset\n"
      ]
    },
    {
      "cell_type": "code",
      "execution_count": 4,
      "id": "47ecb305",
      "metadata": {
        "id": "47ecb305",
        "colab": {
          "base_uri": "https://localhost:8080/"
        },
        "outputId": "9ba030f4-9030-4250-a8ca-12c6d55cc83d"
      },
      "outputs": [
        {
          "output_type": "stream",
          "name": "stdout",
          "text": [
            "Mounted at /content/drive\n"
          ]
        }
      ],
      "source": [
        "\n",
        "from google.colab import drive\n",
        "drive.mount('/content/drive')\n",
        "\n",
        "\n",
        "\n",
        "\n"
      ]
    },
    {
      "cell_type": "code",
      "source": [
        "df = pd.read_csv('/content/drive/MyDrive/T5-TWI/Week 4/4- Deep learning/1-Weekly Task/Datasets/Traffic_Jams.csv')"
      ],
      "metadata": {
        "id": "kmM6uM677ppF"
      },
      "id": "kmM6uM677ppF",
      "execution_count": 5,
      "outputs": []
    },
    {
      "cell_type": "markdown",
      "metadata": {
        "id": "UmwCnYXr8JbV"
      },
      "source": [
        "# Exploratory Data Analysis (EDA)\n",
        "\n",
        "Below are some steps and visualizations to perform EDA on the dataset:\n",
        "\n",
        "1. **Summary Statistics**: Obtain summary statistics for the dataset to understand the central tendencies and dispersion of numerical features.describe()\n",
        "\n",
        "2. **Distribution of the Target Variable**: Analyze the distribution of the target variable `Traffic Situation` to understand the class balance.\n",
        "\n",
        "3. **Correlation Analysis**: Analyze correlations between features."
      ],
      "id": "UmwCnYXr8JbV"
    },
    {
      "cell_type": "code",
      "source": [
        "# 1. Summary Statistics\n",
        "print(df.describe())\n",
        "\n",
        "# 2. Distribution of the Target Variable (Traffic Situation)\n",
        "plt.figure(figsize=(8, 6))\n",
        "sns.countplot(x='Traffic Situation', data=df)\n",
        "plt.title('Distribution of Traffic Situation')\n",
        "plt.xlabel('Traffic Situation')\n",
        "plt.ylabel('Count')\n",
        "plt.show()\n",
        "\n",
        "\n",
        "numeric_df = df.select_dtypes(include=['float64', 'int64'])\n",
        "summary_statistics = numeric_df.describe()\n",
        "print(summary_statistics)\n",
        "\n",
        "\n",
        "\n",
        "\n",
        "\n",
        "# 3. Correlation Analysis\n",
        "plt.figure(figsize=(10, 8))\n",
        "\n",
        "plt.title('Correlation Matrix')\n",
        "plt.show()\n",
        "\n",
        "\n",
        "\n",
        "import seaborn as sns\n",
        "import matplotlib.pyplot as plt\n",
        "\n",
        "# Calculate the correlation matrix, ensuring only numeric columns are used\n",
        "#corr_matrix = df.corr()\n",
        "\n",
        "# Create the heatmap\n",
        "#plt.figure(figsize=(10, 8))\n",
        "#sns.heatmap(corr_matrix, annot=True, cmap='coolwarm', linewidths=0.5, mask=corr_matrix.isnull())\n",
        "#plt.title('Correlation Matrix')\n",
        "#plt.show()\n"
      ],
      "metadata": {
        "id": "_6drHO7R8eCK",
        "outputId": "f1f8d192-a96d-4555-c94b-f8e7be8b2d5f",
        "colab": {
          "base_uri": "https://localhost:8080/",
          "height": 1000
        }
      },
      "id": "_6drHO7R8eCK",
      "execution_count": 6,
      "outputs": [
        {
          "output_type": "stream",
          "name": "stdout",
          "text": [
            "              Date     CarCount    BikeCount     BusCount   TruckCount  \\\n",
            "count  6324.000000  6324.000000  6324.000000  6324.000000  6324.000000   \n",
            "mean     16.043327    64.355629    12.013283    12.557875    18.658128   \n",
            "std       8.956907    44.307088    11.363955    12.319831    10.724822   \n",
            "min       1.000000     5.000000     0.000000     0.000000     0.000000   \n",
            "25%       8.000000    18.000000     3.000000     1.000000    10.000000   \n",
            "50%      16.000000    61.000000     9.000000    10.000000    18.000000   \n",
            "75%      24.000000   101.250000    19.000000    20.000000    27.000000   \n",
            "max      31.000000   180.000000    70.000000    50.000000    60.000000   \n",
            "\n",
            "             Total  \n",
            "count  6324.000000  \n",
            "mean    107.584915  \n",
            "std      55.850784  \n",
            "min      21.000000  \n",
            "25%      53.000000  \n",
            "50%     103.000000  \n",
            "75%     151.000000  \n",
            "max     279.000000  \n"
          ]
        },
        {
          "output_type": "display_data",
          "data": {
            "text/plain": [
              "<Figure size 800x600 with 1 Axes>"
            ],
            "image/png": "[encoded data removed]"
          },
          "metadata": {}
        },
        {
          "output_type": "stream",
          "name": "stdout",
          "text": [
            "              Date     CarCount    BikeCount     BusCount   TruckCount  \\\n",
            "count  6324.000000  6324.000000  6324.000000  6324.000000  6324.000000   \n",
            "mean     16.043327    64.355629    12.013283    12.557875    18.658128   \n",
            "std       8.956907    44.307088    11.363955    12.319831    10.724822   \n",
            "min       1.000000     5.000000     0.000000     0.000000     0.000000   \n",
            "25%       8.000000    18.000000     3.000000     1.000000    10.000000   \n",
            "50%      16.000000    61.000000     9.000000    10.000000    18.000000   \n",
            "75%      24.000000   101.250000    19.000000    20.000000    27.000000   \n",
            "max      31.000000   180.000000    70.000000    50.000000    60.000000   \n",
            "\n",
            "             Total  \n",
            "count  6324.000000  \n",
            "mean    107.584915  \n",
            "std      55.850784  \n",
            "min      21.000000  \n",
            "25%      53.000000  \n",
            "50%     103.000000  \n",
            "75%     151.000000  \n",
            "max     279.000000  \n"
          ]
        },
        {
          "output_type": "display_data",
          "data": {
            "text/plain": [
              "<Figure size 1000x800 with 1 Axes>"
            ],
            "image/png": "[encoded data removed]"
          },
          "metadata": {}
        }
      ]
    },
    {
      "cell_type": "markdown",
      "id": "c0e69164",
      "metadata": {
        "id": "c0e69164"
      },
      "source": [
        "# Preprocess the data (if necessary)\n",
        "\n",
        "Before building models, it's crucial to preprocess the data to ensure it's clean and suitable for training. Follow these steps to prepare the dataset:\n",
        "\n",
        "1. **Check for Missing Values**: Determine if there are any missing values in the dataset and handle them appropriately. You can choose to fill them with a mean, median, or mode value, or drop rows with missing values if necessary.\n",
        "\n",
        "2. **Encode Categorical Variables**: Convert categorical variables into numerical representations. This can be done using techniques such as one-hot encoding and lable-encoder.\n",
        "\n",
        "3. **Feature Scaling**: Standardize or Normalize numerical features if needed to have a consistent scale.\n",
        "\n",
        "4. **Remove Unnecessary Columns**: Drop any columns that are not relevant for modeling."
      ]
    },
    {
      "cell_type": "code",
      "execution_count": 9,
      "id": "1c56d9ea",
      "metadata": {
        "id": "1c56d9ea",
        "colab": {
          "base_uri": "https://localhost:8080/"
        },
        "outputId": "cde83c74-878e-49ad-930c-08e3087648c7"
      },
      "outputs": [
        {
          "output_type": "stream",
          "name": "stdout",
          "text": [
            "Categorical Columns: ['Time', 'Day of the week', 'Traffic Situation']\n",
            "   Time  Date  Day of the week  CarCount  BikeCount  BusCount  TruckCount  \\\n",
            "0    16    10                5        13          2         2          24   \n",
            "1    18    10                5        14          1         1          36   \n",
            "2    20    10                5        10          2         2          32   \n",
            "3    22    10                5        10          2         2          36   \n",
            "4    24    10                5        11          2         1          34   \n",
            "\n",
            "   Total  Traffic Situation  \n",
            "0     41                  3  \n",
            "1     52                  3  \n",
            "2     46                  3  \n",
            "3     50                  3  \n",
            "4     48                  3  \n"
          ]
        }
      ],
      "source": [
        "# Check for Missing Values:\n",
        "\n",
        "df.isnull().sum()\n",
        "\n",
        "\n",
        "#duplicate_rows = df.duplicated()\n",
        "#print(f\"Number of duplicate rows: {duplicate_rows.sum()}\")\n",
        "\n",
        "#checking duplicate values:\n",
        "\n",
        "df.nunique()\n",
        "\n",
        "#Remove duplicate rows\n",
        "df = df.drop_duplicates()\n",
        "df = df.dropna()\n",
        "\n",
        "\n",
        "#2)Encode Categorical Variables:\n",
        "from sklearn.preprocessing import LabelEncoder\n",
        "\n",
        "# Identify categorical columns\n",
        "categorical_columns = ['Time', 'Day of the week', 'Traffic Situation']\n",
        "print(\"Categorical Columns:\", categorical_columns)\n",
        "\n",
        "# Initialize the LabelEncoder\n",
        "label_encoder = LabelEncoder()\n",
        "\n",
        "# Apply LabelEncoder to each categorical column\n",
        "for col in categorical_columns:\n",
        "    df[col] = label_encoder.fit_transform(df[col])\n",
        "\n",
        "# Verify the transformation\n",
        "print(df.head())\n"
      ]
    },
    {
      "cell_type": "code",
      "source": [
        "#3)Feature Scaling:\n",
        "\n",
        "from sklearn.preprocessing import StandardScaler\n",
        "\n",
        "# Identify numerical columns\n",
        "numerical_columns = df.select_dtypes(include=['float64', 'int64']).columns\n",
        "\n",
        "# Initialize the StandardScaler\n",
        "scaler = StandardScaler()\n",
        "\n",
        "# Fit and transform the numerical columns\n",
        "df[numerical_columns] = scaler.fit_transform(df[numerical_columns])\n",
        "\n",
        "# Display the scaled features\n",
        "print(df.head())"
      ],
      "metadata": {
        "id": "OqxZP3lwBhec",
        "colab": {
          "base_uri": "https://localhost:8080/"
        },
        "outputId": "01d2cba6-0210-4d79-813f-fb2fe6dd3d32"
      },
      "id": "OqxZP3lwBhec",
      "execution_count": 10,
      "outputs": [
        {
          "output_type": "stream",
          "name": "stdout",
          "text": [
            "       Time      Date  Day of the week  CarCount  BikeCount  BusCount  \\\n",
            "0 -1.137300 -0.674765         0.906058 -1.159175  -0.881214 -0.857050   \n",
            "1 -1.065529 -0.674765         0.906058 -1.136604  -0.969218 -0.938226   \n",
            "2 -0.993758 -0.674765         0.906058 -1.226890  -0.881214 -0.857050   \n",
            "3 -0.921987 -0.674765         0.906058 -1.226890  -0.881214 -0.857050   \n",
            "4 -0.850216 -0.674765         0.906058 -1.204319  -0.881214 -0.938226   \n",
            "\n",
            "   TruckCount     Total  Traffic Situation  \n",
            "0    0.498124 -1.192287           0.705221  \n",
            "1    1.617112 -0.995318           0.705221  \n",
            "2    1.244116 -1.102756           0.705221  \n",
            "3    1.617112 -1.031131           0.705221  \n",
            "4    1.430614 -1.066943           0.705221  \n"
          ]
        }
      ]
    },
    {
      "cell_type": "code",
      "source": [
        "# Extract Day of the Month and create Is Weekend feature\n",
        "#df['Day_of_Month'] = df['Date']\n",
        "df['Is_Weekend'] = df['Day of the Week'].apply(lambda x: 1 if x in ['Saturday', 'Sunday'] else 0)"
      ],
      "metadata": {
        "colab": {
          "base_uri": "https://localhost:8080/",
          "height": 537
        },
        "id": "mfft4UniPJQR",
        "outputId": "08eed0c8-cf4d-4407-9463-20f17a40aa9e"
      },
      "id": "mfft4UniPJQR",
      "execution_count": 39,
      "outputs": [
        {
          "output_type": "error",
          "ename": "KeyError",
          "evalue": "'Date'",
          "traceback": [
            "\u001b[0;31m---------------------------------------------------------------------------\u001b[0m",
            "\u001b[0;31mKeyError\u001b[0m                                  Traceback (most recent call last)",
            "\u001b[0;32m/usr/local/lib/python3.10/dist-packages/pandas/core/indexes/base.py\u001b[0m in \u001b[0;36mget_loc\u001b[0;34m(self, key)\u001b[0m\n\u001b[1;32m   3790\u001b[0m         \u001b[0;32mtry\u001b[0m\u001b[0;34m:\u001b[0m\u001b[0;34m\u001b[0m\u001b[0;34m\u001b[0m\u001b[0m\n\u001b[0;32m-> 3791\u001b[0;31m             \u001b[0;32mreturn\u001b[0m \u001b[0mself\u001b[0m\u001b[0;34m.\u001b[0m\u001b[0m_engine\u001b[0m\u001b[0;34m.\u001b[0m\u001b[0mget_loc\u001b[0m\u001b[0;34m(\u001b[0m\u001b[0mcasted_key\u001b[0m\u001b[0;34m)\u001b[0m\u001b[0;34m\u001b[0m\u001b[0;34m\u001b[0m\u001b[0m\n\u001b[0m\u001b[1;32m   3792\u001b[0m         \u001b[0;32mexcept\u001b[0m \u001b[0mKeyError\u001b[0m \u001b[0;32mas\u001b[0m \u001b[0merr\u001b[0m\u001b[0;34m:\u001b[0m\u001b[0;34m\u001b[0m\u001b[0;34m\u001b[0m\u001b[0m\n",
            "\u001b[0;32mindex.pyx\u001b[0m in \u001b[0;36mpandas._libs.index.IndexEngine.get_loc\u001b[0;34m()\u001b[0m\n",
            "\u001b[0;32mindex.pyx\u001b[0m in \u001b[0;36mpandas._libs.index.IndexEngine.get_loc\u001b[0;34m()\u001b[0m\n",
            "\u001b[0;32mpandas/_libs/hashtable_class_helper.pxi\u001b[0m in \u001b[0;36mpandas._libs.hashtable.PyObjectHashTable.get_item\u001b[0;34m()\u001b[0m\n",
            "\u001b[0;32mpandas/_libs/hashtable_class_helper.pxi\u001b[0m in \u001b[0;36mpandas._libs.hashtable.PyObjectHashTable.get_item\u001b[0;34m()\u001b[0m\n",
            "\u001b[0;31mKeyError\u001b[0m: 'Date'",
            "\nThe above exception was the direct cause of the following exception:\n",
            "\u001b[0;31mKeyError\u001b[0m                                  Traceback (most recent call last)",
            "\u001b[0;32m<ipython-input-39-81c9af8dbbe1>\u001b[0m in \u001b[0;36m<cell line: 2>\u001b[0;34m()\u001b[0m\n\u001b[1;32m      1\u001b[0m \u001b[0;31m# Extract Day of the Month and create Is Weekend feature\u001b[0m\u001b[0;34m\u001b[0m\u001b[0;34m\u001b[0m\u001b[0m\n\u001b[0;32m----> 2\u001b[0;31m \u001b[0mdf\u001b[0m\u001b[0;34m[\u001b[0m\u001b[0;34m'Day_of_Month'\u001b[0m\u001b[0;34m]\u001b[0m \u001b[0;34m=\u001b[0m \u001b[0mdf\u001b[0m\u001b[0;34m[\u001b[0m\u001b[0;34m'Date'\u001b[0m\u001b[0;34m]\u001b[0m\u001b[0;34m\u001b[0m\u001b[0;34m\u001b[0m\u001b[0m\n\u001b[0m\u001b[1;32m      3\u001b[0m \u001b[0mdf\u001b[0m\u001b[0;34m[\u001b[0m\u001b[0;34m'Is_Weekend'\u001b[0m\u001b[0;34m]\u001b[0m \u001b[0;34m=\u001b[0m \u001b[0mdf\u001b[0m\u001b[0;34m[\u001b[0m\u001b[0;34m'Day of the Week'\u001b[0m\u001b[0;34m]\u001b[0m\u001b[0;34m.\u001b[0m\u001b[0mapply\u001b[0m\u001b[0;34m(\u001b[0m\u001b[0;32mlambda\u001b[0m \u001b[0mx\u001b[0m\u001b[0;34m:\u001b[0m \u001b[0;36m1\u001b[0m \u001b[0;32mif\u001b[0m \u001b[0mx\u001b[0m \u001b[0;32min\u001b[0m \u001b[0;34m[\u001b[0m\u001b[0;34m'Saturday'\u001b[0m\u001b[0;34m,\u001b[0m \u001b[0;34m'Sunday'\u001b[0m\u001b[0;34m]\u001b[0m \u001b[0;32melse\u001b[0m \u001b[0;36m0\u001b[0m\u001b[0;34m)\u001b[0m\u001b[0;34m\u001b[0m\u001b[0;34m\u001b[0m\u001b[0m\n",
            "\u001b[0;32m/usr/local/lib/python3.10/dist-packages/pandas/core/frame.py\u001b[0m in \u001b[0;36m__getitem__\u001b[0;34m(self, key)\u001b[0m\n\u001b[1;32m   3891\u001b[0m             \u001b[0;32mif\u001b[0m \u001b[0mself\u001b[0m\u001b[0;34m.\u001b[0m\u001b[0mcolumns\u001b[0m\u001b[0;34m.\u001b[0m\u001b[0mnlevels\u001b[0m \u001b[0;34m>\u001b[0m \u001b[0;36m1\u001b[0m\u001b[0;34m:\u001b[0m\u001b[0;34m\u001b[0m\u001b[0;34m\u001b[0m\u001b[0m\n\u001b[1;32m   3892\u001b[0m                 \u001b[0;32mreturn\u001b[0m \u001b[0mself\u001b[0m\u001b[0;34m.\u001b[0m\u001b[0m_getitem_multilevel\u001b[0m\u001b[0;34m(\u001b[0m\u001b[0mkey\u001b[0m\u001b[0;34m)\u001b[0m\u001b[0;34m\u001b[0m\u001b[0;34m\u001b[0m\u001b[0m\n\u001b[0;32m-> 3893\u001b[0;31m             \u001b[0mindexer\u001b[0m \u001b[0;34m=\u001b[0m \u001b[0mself\u001b[0m\u001b[0;34m.\u001b[0m\u001b[0mcolumns\u001b[0m\u001b[0;34m.\u001b[0m\u001b[0mget_loc\u001b[0m\u001b[0;34m(\u001b[0m\u001b[0mkey\u001b[0m\u001b[0;34m)\u001b[0m\u001b[0;34m\u001b[0m\u001b[0;34m\u001b[0m\u001b[0m\n\u001b[0m\u001b[1;32m   3894\u001b[0m             \u001b[0;32mif\u001b[0m \u001b[0mis_integer\u001b[0m\u001b[0;34m(\u001b[0m\u001b[0mindexer\u001b[0m\u001b[0;34m)\u001b[0m\u001b[0;34m:\u001b[0m\u001b[0;34m\u001b[0m\u001b[0;34m\u001b[0m\u001b[0m\n\u001b[1;32m   3895\u001b[0m                 \u001b[0mindexer\u001b[0m \u001b[0;34m=\u001b[0m \u001b[0;34m[\u001b[0m\u001b[0mindexer\u001b[0m\u001b[0;34m]\u001b[0m\u001b[0;34m\u001b[0m\u001b[0;34m\u001b[0m\u001b[0m\n",
            "\u001b[0;32m/usr/local/lib/python3.10/dist-packages/pandas/core/indexes/base.py\u001b[0m in \u001b[0;36mget_loc\u001b[0;34m(self, key)\u001b[0m\n\u001b[1;32m   3796\u001b[0m             ):\n\u001b[1;32m   3797\u001b[0m                 \u001b[0;32mraise\u001b[0m \u001b[0mInvalidIndexError\u001b[0m\u001b[0;34m(\u001b[0m\u001b[0mkey\u001b[0m\u001b[0;34m)\u001b[0m\u001b[0;34m\u001b[0m\u001b[0;34m\u001b[0m\u001b[0m\n\u001b[0;32m-> 3798\u001b[0;31m             \u001b[0;32mraise\u001b[0m \u001b[0mKeyError\u001b[0m\u001b[0;34m(\u001b[0m\u001b[0mkey\u001b[0m\u001b[0;34m)\u001b[0m \u001b[0;32mfrom\u001b[0m \u001b[0merr\u001b[0m\u001b[0;34m\u001b[0m\u001b[0;34m\u001b[0m\u001b[0m\n\u001b[0m\u001b[1;32m   3799\u001b[0m         \u001b[0;32mexcept\u001b[0m \u001b[0mTypeError\u001b[0m\u001b[0;34m:\u001b[0m\u001b[0;34m\u001b[0m\u001b[0;34m\u001b[0m\u001b[0m\n\u001b[1;32m   3800\u001b[0m             \u001b[0;31m# If we have a listlike key, _check_indexing_error will raise\u001b[0m\u001b[0;34m\u001b[0m\u001b[0;34m\u001b[0m\u001b[0m\n",
            "\u001b[0;31mKeyError\u001b[0m: 'Date'"
          ]
        }
      ]
    },
    {
      "cell_type": "code",
      "source": [
        "import pandas as pd\n",
        "from sklearn.preprocessing import MinMaxScaler\n",
        "\n",
        "# Example DataFrame with datetime columns\n",
        "df = pd.DataFrame({\n",
        "    'date': ['2024-01-01', '2024-01-02', '2024-01-03'],\n",
        "    'time': ['12:00:00', '13:00:00', '14:00:00']\n",
        "})\n",
        "\n",
        "# Convert 'date' and 'time' columns to datetime format\n",
        "df['date'] = pd.to_datetime(df['date'])\n",
        "df['time'] = pd.to_datetime(df['time'], format='%H:%M:%S')\n",
        "\n",
        "# Convert datetime columns to numeric values (e.g., timestamps)\n",
        "df['date'] = df['date'].astype(int) / 10**9  # Convert to seconds since epoch\n",
        "df['time'] = df['time'].astype(int) / 10**9  # Convert to seconds since epoch\n",
        "\n",
        "# Specify the columns to be normalized\n",
        "specific_columns = ['date', 'time']\n",
        "\n",
        "# Initialize the MinMaxScaler\n",
        "scaler = MinMaxScaler()\n",
        "\n",
        "# Fit and transform the specified columns\n",
        "df[specific_columns] = scaler.fit_transform(df[specific_columns])\n",
        "\n",
        "# Display the first few rows of the scaled features\n",
        "print(df.head())"
      ],
      "metadata": {
        "colab": {
          "base_uri": "https://localhost:8080/"
        },
        "id": "XDDyg1pBIWvW",
        "outputId": "755b347b-07af-4827-ce35-e9267aaae884"
      },
      "id": "XDDyg1pBIWvW",
      "execution_count": 11,
      "outputs": [
        {
          "output_type": "stream",
          "name": "stdout",
          "text": [
            "   date  time\n",
            "0   0.0   0.0\n",
            "1   0.5   0.5\n",
            "2   1.0   1.0\n"
          ]
        }
      ]
    },
    {
      "cell_type": "markdown",
      "id": "15d85221",
      "metadata": {
        "id": "15d85221"
      },
      "source": [
        "# Visualize the Data\n",
        "\n",
        "Visualizing the data helps in understanding the relationships between features and the target variable. Below are some common visualizations that can be used to gain insights into the dataset:\n",
        "\n",
        "1. **Count Plots for Categorical Features**: Use count plots to visualize the frequency of categorical features such as the `Traffic Situation`.\n",
        "\n",
        "2. **Correlation Heatmap**: Create a heatmap to visualize the correlation between numerical features and identify any strong relationships."
      ]
    },
    {
      "cell_type": "code",
      "source": [
        "\n",
        "####1)Count Plots for Categorical Features###\n",
        "\n",
        "df = pd.DataFrame({\n",
        "    'Traffic Situation': ['Heavy', 'Moderate', 'Light', 'Heavy', 'Light', 'Moderate', 'Heavy']\n",
        "})\n",
        "\n",
        "# Create a count plot for the 'Traffic Situation' column\n",
        "plt.figure(figsize=(8, 6))\n",
        "sns.countplot(x='Traffic Situation', data=df)\n",
        "plt.title('Distribution of Traffic Situation')\n",
        "plt.xlabel('Traffic Situation')\n",
        "plt.ylabel('Count')\n",
        "plt.xticks(rotation=45)  # Rotate x labels if they are long\n",
        "plt.show()\n",
        "\n",
        "####2) Correlation Heatmap:\n",
        "\n",
        "# Example DataFrame with numerical features\n",
        "df = pd.DataFrame({\n",
        "    'Feature1': [1, 2, 3, 4, 5],\n",
        "    'Feature2': [5, 4, 3, 2, 1],\n",
        "    'Feature3': [2, 3, 4, 5, 6]\n",
        "})\n",
        "\n",
        "# Compute the correlation matrix\n",
        "corr_matrix = df.corr()\n",
        "\n",
        "# Create a heatmap for the correlation matrix\n",
        "plt.figure(figsize=(10, 8))\n",
        "sns.heatmap(corr_matrix, annot=True, cmap='coolwarm', linewidths=0.5, vmin=-1, vmax=1)\n",
        "plt.title('Correlation Matrix')\n",
        "plt.show()\n"
      ],
      "metadata": {
        "colab": {
          "base_uri": "https://localhost:8080/",
          "height": 1000
        },
        "id": "vg_bQ6VvIdfN",
        "outputId": "ce6f91cc-d8c5-49e2-ac66-3aab9239177b"
      },
      "id": "vg_bQ6VvIdfN",
      "execution_count": 13,
      "outputs": [
        {
          "output_type": "display_data",
          "data": {
            "text/plain": [
              "<Figure size 800x600 with 1 Axes>"
            ],
            "image/png": "[encoded data removed]"
          },
          "metadata": {}
        },
        {
          "output_type": "display_data",
          "data": {
            "text/plain": [
              "<Figure size 1000x800 with 2 Axes>"
            ],
            "image/png": "[encoded data removed]"
          },
          "metadata": {}
        }
      ]
    },
    {
      "cell_type": "markdown",
      "id": "2104eb8e",
      "metadata": {
        "id": "2104eb8e"
      },
      "source": [
        "# Split the Dataset\n",
        "\n",
        "1. **Define Features and Target**: Separate the dataset into features (`X`) and the target variable (`y`).\n",
        "\n",
        "2. **Train-Test Split**: Use the `train_test_split` function from `sklearn.model_selection` to split the data."
      ]
    },
    {
      "cell_type": "code",
      "execution_count": 15,
      "id": "f3a3d4e9",
      "metadata": {
        "id": "f3a3d4e9"
      },
      "outputs": [],
      "source": [
        "####1) Example DataFrame\n",
        "df = pd.DataFrame({\n",
        "    'Feature1': [1, 2, 3, 4, 5],\n",
        "    'Feature2': [5, 4, 3, 2, 1],\n",
        "    'Feature3': [2, 3, 4, 5, 6],\n",
        "    'Target': [0, 1, 0, 1, 0]\n",
        "})\n",
        "\n",
        "# Define features (X) and target variable (y)\n",
        "X = df.drop('Target', axis=1)  # Features\n",
        "y = df['Target']  # Target variable"
      ]
    },
    {
      "cell_type": "code",
      "source": [
        "####2) Perform the train-test split:\n",
        "\n",
        "X_train, X_test, y_train, y_test = train_test_split(\n",
        "    X, y,\n",
        "    test_size=0.3,  # 30% of the data will be used for testing\n",
        "    random_state=42  # For reproducibility\n",
        ")\n",
        "\n",
        "# Display the shapes of the resulting datasets\n",
        "print(f'X_train shape: {X_train.shape}')\n",
        "print(f'X_test shape: {X_test.shape}')\n",
        "print(f'y_train shape: {y_train.shape}')\n",
        "print(f'y_test shape: {y_test.shape}')"
      ],
      "metadata": {
        "colab": {
          "base_uri": "https://localhost:8080/"
        },
        "id": "k_JAaHiAKNa3",
        "outputId": "59828a2c-07b1-4295-88a4-6bb77c9f38ef"
      },
      "id": "k_JAaHiAKNa3",
      "execution_count": 16,
      "outputs": [
        {
          "output_type": "stream",
          "name": "stdout",
          "text": [
            "X_train shape: (3, 3)\n",
            "X_test shape: (2, 3)\n",
            "y_train shape: (3,)\n",
            "y_test shape: (2,)\n"
          ]
        }
      ]
    },
    {
      "cell_type": "markdown",
      "id": "bdcb9a0a",
      "metadata": {
        "id": "bdcb9a0a"
      },
      "source": [
        "# Initialize and Train the Classifiers"
      ]
    },
    {
      "cell_type": "markdown",
      "id": "ea773220",
      "metadata": {
        "id": "ea773220"
      },
      "source": [
        "## Bagging\n",
        "Chose the bagging model to go with and initialize and train a the model."
      ]
    },
    {
      "cell_type": "markdown",
      "id": "fb3a2438",
      "metadata": {
        "id": "fb3a2438"
      },
      "source": [
        "### Evaluate the model performance"
      ]
    },
    {
      "cell_type": "code",
      "execution_count": 21,
      "id": "3e29fd42",
      "metadata": {
        "id": "3e29fd42",
        "colab": {
          "base_uri": "https://localhost:8080/"
        },
        "outputId": "785c671d-8800-4d51-d626-9ae9d35a6cd5"
      },
      "outputs": [
        {
          "output_type": "stream",
          "name": "stdout",
          "text": [
            "Training Accuracy: 1.0\n",
            "Test Accuracy: 0.0\n"
          ]
        }
      ],
      "source": [
        "\n",
        "# Initialize the base estimator (Decision Tree Classifier)\n",
        "base_estimator = DecisionTreeClassifier()\n",
        "\n",
        "# Initialize the Bagging Classifier with the base estimator\n",
        "bagging_model = BaggingClassifier(base_estimator=base_estimator,\n",
        "                                   n_estimators=50,  # Number of base estimators\n",
        "                                   random_state=42)\n",
        "\n",
        "bagging_model.fit(X_train, y_train)\n",
        "\n",
        "# Print the accuracy on the training and test sets\n",
        "print(f'Training Accuracy: {bagging_model.score(X_train, y_train)}')\n",
        "print(f'Test Accuracy: {bagging_model.score(X_test, y_test)}')"
      ]
    },
    {
      "cell_type": "markdown",
      "id": "1790e79e",
      "metadata": {
        "id": "1790e79e"
      },
      "source": [
        "## Boosting\n",
        "Chose the Boosting model to go with and initialize and train a the model."
      ]
    },
    {
      "cell_type": "markdown",
      "id": "6646ab65",
      "metadata": {
        "id": "6646ab65"
      },
      "source": [
        "### Evaluate the model performance"
      ]
    },
    {
      "cell_type": "code",
      "execution_count": 33,
      "id": "bd8ef061",
      "metadata": {
        "id": "bd8ef061",
        "colab": {
          "base_uri": "https://localhost:8080/"
        },
        "outputId": "08929bc9-8c0c-4345-eb5f-8d8ec0f7b5e2"
      },
      "outputs": [
        {
          "output_type": "stream",
          "name": "stdout",
          "text": [
            "Training Accuracy: 1.0\n",
            "Test Accuracy: 1.0\n"
          ]
        }
      ],
      "source": [
        "\n",
        "# Initialize the Gradient Boosting Classifier\n",
        "boosting_model = GradientBoostingClassifier(n_estimators=100,  # Number of boosting stages\n",
        "                                            learning_rate=0.1,  # Learning rate\n",
        "                                            random_state=42)\n",
        "\n",
        "# training data\n",
        "boosting_model.fit(X_train, y_train)\n",
        "\n",
        "# Print the accuracy on the training and test sets\n",
        "print(f'Training Accuracy: {boosting_model.score(X_train, y_train)}')\n",
        "print(f'Test Accuracy: {boosting_model.score(X_test, y_test)}')\n",
        "\n"
      ]
    },
    {
      "cell_type": "markdown",
      "id": "fc2255c5",
      "metadata": {
        "id": "fc2255c5"
      },
      "source": [
        "## Stacking Classifier\n",
        "Combine the previous classifiers as the base models using a Stacking Classifier."
      ]
    },
    {
      "cell_type": "code",
      "execution_count": 34,
      "id": "23b6f377",
      "metadata": {
        "id": "23b6f377",
        "colab": {
          "base_uri": "https://localhost:8080/"
        },
        "outputId": "7ea9d1ab-5162-4613-edc2-045bb32fb7b2"
      },
      "outputs": [
        {
          "output_type": "stream",
          "name": "stdout",
          "text": [
            "Training Accuracy: 1.0\n",
            "Test Accuracy: 1.0\n"
          ]
        }
      ],
      "source": [
        "\n",
        "# Initialize the Stacking Classifier\n",
        "stacking_model = StackingClassifier(estimators=base_models,\n",
        "                                     final_estimator=meta_model,\n",
        "                                     cv=5)  # 5-fold cross-validation for meta-model training\n",
        "\n",
        "#  training data\n",
        "stacking_model.fit(X_train, y_train)\n",
        "\n",
        "# Predict on the test set\n",
        "y_pred = stacking_model.predict(X_test)\n",
        "\n",
        "# Print the accuracy\n",
        "print(f'Training Accuracy: {accuracy_score(y_train, stacking_model.predict(X_train))}')\n",
        "print(f'Test Accuracy: {accuracy_score(y_test, y_pred)}')\n"
      ]
    },
    {
      "cell_type": "markdown",
      "id": "cb295dff",
      "metadata": {
        "id": "cb295dff"
      },
      "source": [
        "### Define meta-learner (LogisticRegression)"
      ]
    },
    {
      "cell_type": "code",
      "execution_count": 37,
      "id": "7b4eb2a7",
      "metadata": {
        "id": "7b4eb2a7",
        "colab": {
          "base_uri": "https://localhost:8080/"
        },
        "outputId": "9567b44a-35b7-486e-bf1a-ea4a0fd621f8"
      },
      "outputs": [
        {
          "output_type": "stream",
          "name": "stdout",
          "text": [
            "Training Accuracy: 1.0\n",
            "Test Accuracy: 1.0\n"
          ]
        }
      ],
      "source": [
        "# Define the meta-learner (Logistic Regression)\n",
        "meta_learner = LogisticRegression()\n",
        "\n",
        "# Initialize the Stacking Classifier with base models and meta-learner\n",
        "stacking_model = StackingClassifier(estimators=base_models,\n",
        "                                     final_estimator=meta_learner,\n",
        "                                     cv=5)  # 5-fold cross-validation for meta-model training\n",
        "\n",
        "# the training data\n",
        "stacking_model.fit(X_train, y_train)\n",
        "\n",
        "# Predict on the test set\n",
        "y_pred = stacking_model.predict(X_test)\n",
        "# Print the accuracy\n",
        "print(f'Training Accuracy: {accuracy_score(y_train, stacking_model.predict(X_train))}')\n",
        "print(f'Test Accuracy: {accuracy_score(y_test, y_pred)}')"
      ]
    },
    {
      "cell_type": "markdown",
      "id": "0f74e88d",
      "metadata": {
        "id": "0f74e88d"
      },
      "source": [
        "### Initialize and Train the Stacking Classifier\n",
        "\n",
        "Stacking combines multiple models (base learners) using a meta-learner. The meta-learner is trained on the predictions of the base learners to make the final prediction."
      ]
    },
    {
      "cell_type": "markdown",
      "id": "d24a1137",
      "metadata": {
        "id": "d24a1137"
      },
      "source": [
        "### Evaluate the model performance"
      ]
    },
    {
      "cell_type": "code",
      "execution_count": 38,
      "id": "c53f148a",
      "metadata": {
        "id": "c53f148a",
        "colab": {
          "base_uri": "https://localhost:8080/"
        },
        "outputId": "c1dbd9e9-047e-48a4-c5f1-c81e514a767c"
      },
      "outputs": [
        {
          "output_type": "stream",
          "name": "stdout",
          "text": [
            "Training Accuracy: 1.0\n",
            "Test Accuracy: 1.0\n"
          ]
        }
      ],
      "source": [
        "# Initialize base models\n",
        "base_models = [\n",
        "    ('bagging', BaggingClassifier(base_estimator=DecisionTreeClassifier(),\n",
        "                                  n_estimators=50,\n",
        "                                  random_state=42)),\n",
        "    ('boosting', GradientBoostingClassifier(n_estimators=100,\n",
        "                                            learning_rate=0.1,\n",
        "                                            random_state=42))\n",
        "]\n",
        "\n",
        "# Initialize the Stacking Classifier\n",
        "stacking_model = StackingClassifier(estimators=base_models,\n",
        "                                     final_estimator=meta_learner,\n",
        "                                     cv=5)  # 5-fold cross-validation for training meta-model\n",
        "\n",
        "# Train the Stacking Classifier\n",
        "stacking_model.fit(X_train, y_train)\n",
        "\n",
        "# Predict on the test set\n",
        "y_pred = stacking_model.predict(X_test)\n",
        "\n",
        "# Print the accuracy\n",
        "print(f'Training Accuracy: {accuracy_score(y_train, stacking_model.predict(X_train))}')\n",
        "print(f'Test Accuracy: {accuracy_score(y_test, y_pred)}')"
      ]
    },
    {
      "cell_type": "markdown",
      "id": "4129f6a0",
      "metadata": {
        "id": "4129f6a0"
      },
      "source": [
        "# Notebook Questions:\n",
        "\n",
        "After completing the tasks in this notebook, take some time to reflect on the work you have done and answer the following questions. These questions are designed to help you think critically about the steps you took and the decisions you made.\n",
        "\n",
        "* **Feature Selection and Engineering**\n",
        "   - Which features did you find most important for predicting churn, and why do you think they are significant?\n",
        "   - Did you perform any feature engineering? If so, what new features did you create, and how did they improve the model performance?\n",
        "\n",
        "* **Model Selection**\n",
        "   - Why did you choose the specific ensemble methods you implemented? What are the advantages of using ensemble methods over single models?\n",
        "   - Compare the performance of different models you used. Which model performed the best, and what do you think contributed to its success?\n",
        "\n",
        "* **Model Evaluation**\n",
        "   - Which evaluation metrics did you use to assess the model performance, and why? What insights did these metrics provide about the models' strengths and weaknesses?\n"
      ]
    },
    {
      "cell_type": "markdown",
      "id": "5a4dd465",
      "metadata": {
        "id": "5a4dd465"
      },
      "source": [
        "# Answer here:"
      ]
    },
    {
      "cell_type": "markdown",
      "source": [
        "\n",
        " **Feature Selection and Engineering**\n",
        "\n",
        "Which features did you find most important for predicting churn, and why do you think they are significant?\n",
        "**-Total and the Traffic Situation**\n",
        "\n",
        "Did you perform any feature engineering? If so, what new features did you create, and how did they improve the model performance?\n",
        "**# -Extract Day of the Month and create Is Weekend feature**"
      ],
      "metadata": {
        "id": "Of4QIxjjODo5"
      },
      "id": "Of4QIxjjODo5"
    },
    {
      "cell_type": "markdown",
      "source": [
        "**Model Selection**\n",
        "\n",
        "\n",
        "Why did you choose the specific ensemble methods you implemented? What are the advantages of using ensemble methods over single models?\n",
        "**Reduced Overfitting , Robustness to Noise  **\n",
        "\n",
        "\n",
        "Compare the performance of different models you used. Which model performed the best, and what do you think contributed to its success?\n",
        "**Best Performing Model StackingClassifier as it integrates the strengths of Bagging and Boosting through a meta-learner.\n",
        "Contributing Factors:\n",
        "Model Combination: Stacking leverages the diverse strengths of Bagging and Boosting, which helps in achieving better performance.\n",
        "Meta-Learner: The meta-learner (LogisticRegression) combines the predictions of base models in an optimal way, leading to improved accuracy.\n",
        "Error Correction: Stacking benefits from the ability of base models to correct each other’s mistakes, resulting in a more robust final prediction.**"
      ],
      "metadata": {
        "id": "PggoEQFlPuf7"
      },
      "id": "PggoEQFlPuf7"
    },
    {
      "cell_type": "markdown",
      "source": [
        "**Model Evaluation**\n",
        "\n",
        "Which evaluation metrics did you use to assess the model performance, and why? What insights did these metrics provide about the models' strengths and weaknesses?\n",
        "**Confusion Matrix provides detailed insights into prediction errors.**"
      ],
      "metadata": {
        "id": "Pd5bNcVLRFq8"
      },
      "id": "Pd5bNcVLRFq8"
    }
  ],
  "metadata": {
    "colab": {
      "provenance": [],
      "include_colab_link": true
    },
    "language_info": {
      "name": "python"
    },
    "kernelspec": {
      "name": "python3",
      "display_name": "Python 3"
    }
  },
  "nbformat": 4,
  "nbformat_minor": 5
}